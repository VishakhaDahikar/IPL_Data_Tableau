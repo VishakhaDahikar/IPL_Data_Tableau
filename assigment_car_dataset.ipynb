{
  "cells": [
    {
      "cell_type": "markdown",
      "source": [
        "1. Import the necessary libraries in your notebook shell. Following to which, Import and Load the provided data in your notebook in csv format."
      ],
      "metadata": {},
      "id": "d207c93a"
    },
    {
      "cell_type": "code",
      "source": [
        "import pandas as pd"
      ],
      "outputs": [],
      "execution_count": 1,
      "metadata": {},
      "id": "bef92287"
    },
    {
      "cell_type": "code",
      "source": [
        "import numpy as np"
      ],
      "outputs": [],
      "execution_count": 2,
      "metadata": {},
      "id": "d57f2019"
    },
    {
      "cell_type": "code",
      "source": [
        "car_data=pd.read_csv('D:/Digikull_Data_Scence/data_set/Car_Details_Data.csv')"
      ],
      "outputs": [],
      "execution_count": 3,
      "metadata": {},
      "id": "6994e416"
    },
    {
      "cell_type": "code",
      "source": [
        "car_data"
      ],
      "outputs": [
        {
          "output_type": "execute_result",
          "execution_count": 4,
          "data": {
            "text/html": "<div>\n<style scoped>\n    .dataframe tbody tr th:only-of-type {\n        vertical-align: middle;\n    }\n\n    .dataframe tbody tr th {\n        vertical-align: top;\n    }\n\n    .dataframe thead th {\n        text-align: right;\n    }\n</style>\n<table border=\"1\" class=\"dataframe\">\n  <thead>\n    <tr style=\"text-align: right;\">\n      <th></th>\n      <th>name</th>\n      <th>year</th>\n      <th>selling_price</th>\n      <th>km_driven</th>\n      <th>fuel</th>\n      <th>seller_type</th>\n      <th>transmission</th>\n      <th>owner</th>\n    </tr>\n  </thead>\n  <tbody>\n    <tr>\n      <th>0</th>\n      <td>Maruti 800 AC</td>\n      <td>2007</td>\n      <td>60000</td>\n      <td>70000</td>\n      <td>Petrol</td>\n      <td>Individual</td>\n      <td>Manual</td>\n      <td>First Owner</td>\n    </tr>\n    <tr>\n      <th>1</th>\n      <td>Maruti Wagon R LXI Minor</td>\n      <td>2007</td>\n      <td>135000</td>\n      <td>50000</td>\n      <td>Petrol</td>\n      <td>Individual</td>\n      <td>Manual</td>\n      <td>First Owner</td>\n    </tr>\n    <tr>\n      <th>2</th>\n      <td>Hyundai Verna 1.6 SX</td>\n      <td>2012</td>\n      <td>600000</td>\n      <td>100000</td>\n      <td>Diesel</td>\n      <td>Individual</td>\n      <td>Manual</td>\n      <td>First Owner</td>\n    </tr>\n    <tr>\n      <th>3</th>\n      <td>Datsun RediGO T Option</td>\n      <td>2017</td>\n      <td>250000</td>\n      <td>46000</td>\n      <td>Petrol</td>\n      <td>Individual</td>\n      <td>Manual</td>\n      <td>First Owner</td>\n    </tr>\n    <tr>\n      <th>4</th>\n      <td>Honda Amaze VX i-DTEC</td>\n      <td>2014</td>\n      <td>450000</td>\n      <td>141000</td>\n      <td>Diesel</td>\n      <td>Individual</td>\n      <td>Manual</td>\n      <td>Second Owner</td>\n    </tr>\n    <tr>\n      <th>...</th>\n      <td>...</td>\n      <td>...</td>\n      <td>...</td>\n      <td>...</td>\n      <td>...</td>\n      <td>...</td>\n      <td>...</td>\n      <td>...</td>\n    </tr>\n    <tr>\n      <th>4335</th>\n      <td>Hyundai i20 Magna 1.4 CRDi (Diesel)</td>\n      <td>2014</td>\n      <td>409999</td>\n      <td>80000</td>\n      <td>Diesel</td>\n      <td>Individual</td>\n      <td>Manual</td>\n      <td>Second Owner</td>\n    </tr>\n    <tr>\n      <th>4336</th>\n      <td>Hyundai i20 Magna 1.4 CRDi</td>\n      <td>2014</td>\n      <td>409999</td>\n      <td>80000</td>\n      <td>Diesel</td>\n      <td>Individual</td>\n      <td>Manual</td>\n      <td>Second Owner</td>\n    </tr>\n    <tr>\n      <th>4337</th>\n      <td>Maruti 800 AC BSIII</td>\n      <td>2009</td>\n      <td>110000</td>\n      <td>83000</td>\n      <td>Petrol</td>\n      <td>Individual</td>\n      <td>Manual</td>\n      <td>Second Owner</td>\n    </tr>\n    <tr>\n      <th>4338</th>\n      <td>Hyundai Creta 1.6 CRDi SX Option</td>\n      <td>2016</td>\n      <td>865000</td>\n      <td>90000</td>\n      <td>Diesel</td>\n      <td>Individual</td>\n      <td>Manual</td>\n      <td>First Owner</td>\n    </tr>\n    <tr>\n      <th>4339</th>\n      <td>Renault KWID RXT</td>\n      <td>2016</td>\n      <td>225000</td>\n      <td>40000</td>\n      <td>Petrol</td>\n      <td>Individual</td>\n      <td>Manual</td>\n      <td>First Owner</td>\n    </tr>\n  </tbody>\n</table>\n<p>4340 rows × 8 columns</p>\n</div>",
            "text/plain": "                                     name  year  selling_price  km_driven  \\\n0                           Maruti 800 AC  2007          60000      70000   \n1                Maruti Wagon R LXI Minor  2007         135000      50000   \n2                    Hyundai Verna 1.6 SX  2012         600000     100000   \n3                  Datsun RediGO T Option  2017         250000      46000   \n4                   Honda Amaze VX i-DTEC  2014         450000     141000   \n...                                   ...   ...            ...        ...   \n4335  Hyundai i20 Magna 1.4 CRDi (Diesel)  2014         409999      80000   \n4336           Hyundai i20 Magna 1.4 CRDi  2014         409999      80000   \n4337                  Maruti 800 AC BSIII  2009         110000      83000   \n4338     Hyundai Creta 1.6 CRDi SX Option  2016         865000      90000   \n4339                     Renault KWID RXT  2016         225000      40000   \n\n        fuel seller_type transmission         owner  \n0     Petrol  Individual       Manual   First Owner  \n1     Petrol  Individual       Manual   First Owner  \n2     Diesel  Individual       Manual   First Owner  \n3     Petrol  Individual       Manual   First Owner  \n4     Diesel  Individual       Manual  Second Owner  \n...      ...         ...          ...           ...  \n4335  Diesel  Individual       Manual  Second Owner  \n4336  Diesel  Individual       Manual  Second Owner  \n4337  Petrol  Individual       Manual  Second Owner  \n4338  Diesel  Individual       Manual   First Owner  \n4339  Petrol  Individual       Manual   First Owner  \n\n[4340 rows x 8 columns]"
          },
          "metadata": {}
        }
      ],
      "execution_count": 4,
      "metadata": {},
      "id": "2d58ca54"
    },
    {
      "cell_type": "markdown",
      "source": [
        "2. Check for dimensions of the data."
      ],
      "metadata": {},
      "id": "3f78c88e"
    },
    {
      "cell_type": "code",
      "source": [
        "car_data.shape"
      ],
      "outputs": [
        {
          "output_type": "execute_result",
          "execution_count": 5,
          "data": {
            "text/plain": "(4340, 8)"
          },
          "metadata": {}
        }
      ],
      "execution_count": 5,
      "metadata": {},
      "id": "d0d72e21"
    },
    {
      "cell_type": "code",
      "source": [
        "car_data.size"
      ],
      "outputs": [
        {
          "output_type": "execute_result",
          "execution_count": 6,
          "data": {
            "text/plain": "34720"
          },
          "metadata": {}
        }
      ],
      "execution_count": 6,
      "metadata": {},
      "id": "8db028d8"
    },
    {
      "cell_type": "code",
      "source": [
        "car_data.ndim"
      ],
      "outputs": [
        {
          "output_type": "execute_result",
          "execution_count": 7,
          "data": {
            "text/plain": "2"
          },
          "metadata": {}
        }
      ],
      "execution_count": 7,
      "metadata": {},
      "id": "af002944"
    },
    {
      "cell_type": "markdown",
      "source": [
        "3. Find out unique row values for following columns:\n",
        "\t1. name\n",
        "\t2. year\n",
        "\t3. fuel\n",
        "\t4. transmission\n",
        "\t5. owner\n"
      ],
      "metadata": {},
      "id": "089519fb"
    },
    {
      "cell_type": "code",
      "source": [
        "car_data['name'].unique()"
      ],
      "outputs": [
        {
          "output_type": "execute_result",
          "execution_count": 8,
          "data": {
            "text/plain": "array(['Maruti 800 AC', 'Maruti Wagon R LXI Minor',\n       'Hyundai Verna 1.6 SX', ..., 'Mahindra Verito 1.5 D6 BSIII',\n       'Toyota Innova 2.5 VX (Diesel) 8 Seater BS IV',\n       'Hyundai i20 Magna 1.4 CRDi'], dtype=object)"
          },
          "metadata": {}
        }
      ],
      "execution_count": 8,
      "metadata": {},
      "id": "7406ba63"
    },
    {
      "cell_type": "code",
      "source": [
        "car_data['year'].unique()"
      ],
      "outputs": [
        {
          "output_type": "execute_result",
          "execution_count": 9,
          "data": {
            "text/plain": "array([2007, 2012, 2017, 2014, 2016, 2015, 2018, 2019, 2013, 2011, 2010,\n       2009, 2006, 1996, 2005, 2008, 2004, 1998, 2003, 2002, 2020, 2000,\n       1999, 2001, 1995, 1997, 1992], dtype=int64)"
          },
          "metadata": {}
        }
      ],
      "execution_count": 9,
      "metadata": {},
      "id": "82e461ab"
    },
    {
      "cell_type": "code",
      "source": [
        "car_data['fuel'].unique()"
      ],
      "outputs": [
        {
          "output_type": "execute_result",
          "execution_count": 10,
          "data": {
            "text/plain": "array(['Petrol', 'Diesel', 'CNG', 'LPG', 'Electric'], dtype=object)"
          },
          "metadata": {}
        }
      ],
      "execution_count": 10,
      "metadata": {},
      "id": "22a58f17"
    },
    {
      "cell_type": "code",
      "source": [
        "car_data['transmission'].unique()"
      ],
      "outputs": [
        {
          "output_type": "execute_result",
          "execution_count": 11,
          "data": {
            "text/plain": "array(['Manual', 'Automatic'], dtype=object)"
          },
          "metadata": {}
        }
      ],
      "execution_count": 11,
      "metadata": {},
      "id": "ad22fc0c"
    },
    {
      "cell_type": "code",
      "source": [
        "car_data['owner'].unique()"
      ],
      "outputs": [
        {
          "output_type": "execute_result",
          "execution_count": 12,
          "data": {
            "text/plain": "array(['First Owner', 'Second Owner', 'Fourth & Above Owner',\n       'Third Owner', 'Test Drive Car'], dtype=object)"
          },
          "metadata": {}
        }
      ],
      "execution_count": 12,
      "metadata": {},
      "id": "41e5163a"
    },
    {
      "cell_type": "code",
      "source": [
        "car_data[(car_data['owner']=='First Owner')].count()"
      ],
      "outputs": [
        {
          "output_type": "execute_result",
          "execution_count": 13,
          "data": {
            "text/plain": "name             2832\nyear             2832\nselling_price    2832\nkm_driven        2832\nfuel             2832\nseller_type      2832\ntransmission     2832\nowner            2832\ndtype: int64"
          },
          "metadata": {}
        }
      ],
      "execution_count": 13,
      "metadata": {},
      "id": "38f657c6"
    },
    {
      "cell_type": "markdown",
      "source": [
        "4. Add a column named- 'brand' in the above dataset using column 'name' which will give the brand's name of car. e.g.- (Tata, Mahindra,etc.)"
      ],
      "metadata": {},
      "id": "015b4d4d"
    },
    {
      "cell_type": "code",
      "source": [
        "car_data.rename(columns={'name':'Brand'})"
      ],
      "outputs": [
        {
          "output_type": "execute_result",
          "execution_count": 14,
          "data": {
            "text/html": "<div>\n<style scoped>\n    .dataframe tbody tr th:only-of-type {\n        vertical-align: middle;\n    }\n\n    .dataframe tbody tr th {\n        vertical-align: top;\n    }\n\n    .dataframe thead th {\n        text-align: right;\n    }\n</style>\n<table border=\"1\" class=\"dataframe\">\n  <thead>\n    <tr style=\"text-align: right;\">\n      <th></th>\n      <th>Brand</th>\n      <th>year</th>\n      <th>selling_price</th>\n      <th>km_driven</th>\n      <th>fuel</th>\n      <th>seller_type</th>\n      <th>transmission</th>\n      <th>owner</th>\n    </tr>\n  </thead>\n  <tbody>\n    <tr>\n      <th>0</th>\n      <td>Maruti 800 AC</td>\n      <td>2007</td>\n      <td>60000</td>\n      <td>70000</td>\n      <td>Petrol</td>\n      <td>Individual</td>\n      <td>Manual</td>\n      <td>First Owner</td>\n    </tr>\n    <tr>\n      <th>1</th>\n      <td>Maruti Wagon R LXI Minor</td>\n      <td>2007</td>\n      <td>135000</td>\n      <td>50000</td>\n      <td>Petrol</td>\n      <td>Individual</td>\n      <td>Manual</td>\n      <td>First Owner</td>\n    </tr>\n    <tr>\n      <th>2</th>\n      <td>Hyundai Verna 1.6 SX</td>\n      <td>2012</td>\n      <td>600000</td>\n      <td>100000</td>\n      <td>Diesel</td>\n      <td>Individual</td>\n      <td>Manual</td>\n      <td>First Owner</td>\n    </tr>\n    <tr>\n      <th>3</th>\n      <td>Datsun RediGO T Option</td>\n      <td>2017</td>\n      <td>250000</td>\n      <td>46000</td>\n      <td>Petrol</td>\n      <td>Individual</td>\n      <td>Manual</td>\n      <td>First Owner</td>\n    </tr>\n    <tr>\n      <th>4</th>\n      <td>Honda Amaze VX i-DTEC</td>\n      <td>2014</td>\n      <td>450000</td>\n      <td>141000</td>\n      <td>Diesel</td>\n      <td>Individual</td>\n      <td>Manual</td>\n      <td>Second Owner</td>\n    </tr>\n    <tr>\n      <th>...</th>\n      <td>...</td>\n      <td>...</td>\n      <td>...</td>\n      <td>...</td>\n      <td>...</td>\n      <td>...</td>\n      <td>...</td>\n      <td>...</td>\n    </tr>\n    <tr>\n      <th>4335</th>\n      <td>Hyundai i20 Magna 1.4 CRDi (Diesel)</td>\n      <td>2014</td>\n      <td>409999</td>\n      <td>80000</td>\n      <td>Diesel</td>\n      <td>Individual</td>\n      <td>Manual</td>\n      <td>Second Owner</td>\n    </tr>\n    <tr>\n      <th>4336</th>\n      <td>Hyundai i20 Magna 1.4 CRDi</td>\n      <td>2014</td>\n      <td>409999</td>\n      <td>80000</td>\n      <td>Diesel</td>\n      <td>Individual</td>\n      <td>Manual</td>\n      <td>Second Owner</td>\n    </tr>\n    <tr>\n      <th>4337</th>\n      <td>Maruti 800 AC BSIII</td>\n      <td>2009</td>\n      <td>110000</td>\n      <td>83000</td>\n      <td>Petrol</td>\n      <td>Individual</td>\n      <td>Manual</td>\n      <td>Second Owner</td>\n    </tr>\n    <tr>\n      <th>4338</th>\n      <td>Hyundai Creta 1.6 CRDi SX Option</td>\n      <td>2016</td>\n      <td>865000</td>\n      <td>90000</td>\n      <td>Diesel</td>\n      <td>Individual</td>\n      <td>Manual</td>\n      <td>First Owner</td>\n    </tr>\n    <tr>\n      <th>4339</th>\n      <td>Renault KWID RXT</td>\n      <td>2016</td>\n      <td>225000</td>\n      <td>40000</td>\n      <td>Petrol</td>\n      <td>Individual</td>\n      <td>Manual</td>\n      <td>First Owner</td>\n    </tr>\n  </tbody>\n</table>\n<p>4340 rows × 8 columns</p>\n</div>",
            "text/plain": "                                    Brand  year  selling_price  km_driven  \\\n0                           Maruti 800 AC  2007          60000      70000   \n1                Maruti Wagon R LXI Minor  2007         135000      50000   \n2                    Hyundai Verna 1.6 SX  2012         600000     100000   \n3                  Datsun RediGO T Option  2017         250000      46000   \n4                   Honda Amaze VX i-DTEC  2014         450000     141000   \n...                                   ...   ...            ...        ...   \n4335  Hyundai i20 Magna 1.4 CRDi (Diesel)  2014         409999      80000   \n4336           Hyundai i20 Magna 1.4 CRDi  2014         409999      80000   \n4337                  Maruti 800 AC BSIII  2009         110000      83000   \n4338     Hyundai Creta 1.6 CRDi SX Option  2016         865000      90000   \n4339                     Renault KWID RXT  2016         225000      40000   \n\n        fuel seller_type transmission         owner  \n0     Petrol  Individual       Manual   First Owner  \n1     Petrol  Individual       Manual   First Owner  \n2     Diesel  Individual       Manual   First Owner  \n3     Petrol  Individual       Manual   First Owner  \n4     Diesel  Individual       Manual  Second Owner  \n...      ...         ...          ...           ...  \n4335  Diesel  Individual       Manual  Second Owner  \n4336  Diesel  Individual       Manual  Second Owner  \n4337  Petrol  Individual       Manual  Second Owner  \n4338  Diesel  Individual       Manual   First Owner  \n4339  Petrol  Individual       Manual   First Owner  \n\n[4340 rows x 8 columns]"
          },
          "metadata": {}
        }
      ],
      "execution_count": 14,
      "metadata": {},
      "id": "34d63b2a"
    },
    {
      "cell_type": "markdown",
      "source": [
        "5. Produce the Brand wise number of cars listed in the agency."
      ],
      "metadata": {},
      "id": "51655aa9"
    },
    {
      "cell_type": "code",
      "source": [
        "brand_count=car_data.groupby([\"name\"]).count()\n",
        "brand_count\n"
      ],
      "outputs": [
        {
          "output_type": "execute_result",
          "execution_count": 15,
          "data": {
            "text/html": "<div>\n<style scoped>\n    .dataframe tbody tr th:only-of-type {\n        vertical-align: middle;\n    }\n\n    .dataframe tbody tr th {\n        vertical-align: top;\n    }\n\n    .dataframe thead th {\n        text-align: right;\n    }\n</style>\n<table border=\"1\" class=\"dataframe\">\n  <thead>\n    <tr style=\"text-align: right;\">\n      <th></th>\n      <th>year</th>\n      <th>selling_price</th>\n      <th>km_driven</th>\n      <th>fuel</th>\n      <th>seller_type</th>\n      <th>transmission</th>\n      <th>owner</th>\n    </tr>\n    <tr>\n      <th>name</th>\n      <th></th>\n      <th></th>\n      <th></th>\n      <th></th>\n      <th></th>\n      <th></th>\n      <th></th>\n    </tr>\n  </thead>\n  <tbody>\n    <tr>\n      <th>Ambassador CLASSIC 1500 DSL AC</th>\n      <td>2</td>\n      <td>2</td>\n      <td>2</td>\n      <td>2</td>\n      <td>2</td>\n      <td>2</td>\n      <td>2</td>\n    </tr>\n    <tr>\n      <th>Ambassador Classic 2000 Dsz</th>\n      <td>1</td>\n      <td>1</td>\n      <td>1</td>\n      <td>1</td>\n      <td>1</td>\n      <td>1</td>\n      <td>1</td>\n    </tr>\n    <tr>\n      <th>Ambassador Grand 1800 ISZ MPFI PW CL</th>\n      <td>1</td>\n      <td>1</td>\n      <td>1</td>\n      <td>1</td>\n      <td>1</td>\n      <td>1</td>\n      <td>1</td>\n    </tr>\n    <tr>\n      <th>Audi A4 1.8 TFSI</th>\n      <td>1</td>\n      <td>1</td>\n      <td>1</td>\n      <td>1</td>\n      <td>1</td>\n      <td>1</td>\n      <td>1</td>\n    </tr>\n    <tr>\n      <th>Audi A4 2.0 TDI</th>\n      <td>1</td>\n      <td>1</td>\n      <td>1</td>\n      <td>1</td>\n      <td>1</td>\n      <td>1</td>\n      <td>1</td>\n    </tr>\n    <tr>\n      <th>...</th>\n      <td>...</td>\n      <td>...</td>\n      <td>...</td>\n      <td>...</td>\n      <td>...</td>\n      <td>...</td>\n      <td>...</td>\n    </tr>\n    <tr>\n      <th>Volkswagen Vento Petrol Highline AT</th>\n      <td>2</td>\n      <td>2</td>\n      <td>2</td>\n      <td>2</td>\n      <td>2</td>\n      <td>2</td>\n      <td>2</td>\n    </tr>\n    <tr>\n      <th>Volvo V40 D3 R Design</th>\n      <td>1</td>\n      <td>1</td>\n      <td>1</td>\n      <td>1</td>\n      <td>1</td>\n      <td>1</td>\n      <td>1</td>\n    </tr>\n    <tr>\n      <th>Volvo XC 90 D5 Inscription BSIV</th>\n      <td>1</td>\n      <td>1</td>\n      <td>1</td>\n      <td>1</td>\n      <td>1</td>\n      <td>1</td>\n      <td>1</td>\n    </tr>\n    <tr>\n      <th>Volvo XC60 D3 Kinetic</th>\n      <td>1</td>\n      <td>1</td>\n      <td>1</td>\n      <td>1</td>\n      <td>1</td>\n      <td>1</td>\n      <td>1</td>\n    </tr>\n    <tr>\n      <th>Volvo XC60 D5 Inscription</th>\n      <td>1</td>\n      <td>1</td>\n      <td>1</td>\n      <td>1</td>\n      <td>1</td>\n      <td>1</td>\n      <td>1</td>\n    </tr>\n  </tbody>\n</table>\n<p>1491 rows × 7 columns</p>\n</div>",
            "text/plain": "                                      year  selling_price  km_driven  fuel  \\\nname                                                                         \nAmbassador CLASSIC 1500 DSL AC           2              2          2     2   \nAmbassador Classic 2000 Dsz              1              1          1     1   \nAmbassador Grand 1800 ISZ MPFI PW CL     1              1          1     1   \nAudi A4 1.8 TFSI                         1              1          1     1   \nAudi A4 2.0 TDI                          1              1          1     1   \n...                                    ...            ...        ...   ...   \nVolkswagen Vento Petrol Highline AT      2              2          2     2   \nVolvo V40 D3 R Design                    1              1          1     1   \nVolvo XC 90 D5 Inscription BSIV          1              1          1     1   \nVolvo XC60 D3 Kinetic                    1              1          1     1   \nVolvo XC60 D5 Inscription                1              1          1     1   \n\n                                      seller_type  transmission  owner  \nname                                                                    \nAmbassador CLASSIC 1500 DSL AC                  2             2      2  \nAmbassador Classic 2000 Dsz                     1             1      1  \nAmbassador Grand 1800 ISZ MPFI PW CL            1             1      1  \nAudi A4 1.8 TFSI                                1             1      1  \nAudi A4 2.0 TDI                                 1             1      1  \n...                                           ...           ...    ...  \nVolkswagen Vento Petrol Highline AT             2             2      2  \nVolvo V40 D3 R Design                           1             1      1  \nVolvo XC 90 D5 Inscription BSIV                 1             1      1  \nVolvo XC60 D3 Kinetic                           1             1      1  \nVolvo XC60 D5 Inscription                       1             1      1  \n\n[1491 rows x 7 columns]"
          },
          "metadata": {}
        }
      ],
      "execution_count": 15,
      "metadata": {},
      "id": "47427790"
    },
    {
      "cell_type": "markdown",
      "source": [
        "6. Produce the table giving the count of cars in possession with respect to it's make year "
      ],
      "metadata": {},
      "id": "88daf9d5"
    },
    {
      "cell_type": "code",
      "source": [
        "count_of_car_pos=car_data.groupby(['name'])['year'].count()\n",
        "count_of_car_pos"
      ],
      "outputs": [
        {
          "output_type": "execute_result",
          "execution_count": 16,
          "data": {
            "text/plain": "name\nAmbassador CLASSIC 1500 DSL AC          2\nAmbassador Classic 2000 Dsz             1\nAmbassador Grand 1800 ISZ MPFI PW CL    1\nAudi A4 1.8 TFSI                        1\nAudi A4 2.0 TDI                         1\n                                       ..\nVolkswagen Vento Petrol Highline AT     2\nVolvo V40 D3 R Design                   1\nVolvo XC 90 D5 Inscription BSIV         1\nVolvo XC60 D3 Kinetic                   1\nVolvo XC60 D5 Inscription               1\nName: year, Length: 1491, dtype: int64"
          },
          "metadata": {}
        }
      ],
      "execution_count": 16,
      "metadata": {},
      "id": "9295981f"
    },
    {
      "cell_type": "markdown",
      "source": [
        "7. Produce the list of Top 5 cars in each fuel type category with respect to maximum selling price"
      ],
      "metadata": {},
      "id": "06bd4489"
    },
    {
      "cell_type": "code",
      "source": [
        "car_data.head()"
      ],
      "outputs": [
        {
          "output_type": "execute_result",
          "execution_count": 17,
          "data": {
            "text/html": "<div>\n<style scoped>\n    .dataframe tbody tr th:only-of-type {\n        vertical-align: middle;\n    }\n\n    .dataframe tbody tr th {\n        vertical-align: top;\n    }\n\n    .dataframe thead th {\n        text-align: right;\n    }\n</style>\n<table border=\"1\" class=\"dataframe\">\n  <thead>\n    <tr style=\"text-align: right;\">\n      <th></th>\n      <th>name</th>\n      <th>year</th>\n      <th>selling_price</th>\n      <th>km_driven</th>\n      <th>fuel</th>\n      <th>seller_type</th>\n      <th>transmission</th>\n      <th>owner</th>\n    </tr>\n  </thead>\n  <tbody>\n    <tr>\n      <th>0</th>\n      <td>Maruti 800 AC</td>\n      <td>2007</td>\n      <td>60000</td>\n      <td>70000</td>\n      <td>Petrol</td>\n      <td>Individual</td>\n      <td>Manual</td>\n      <td>First Owner</td>\n    </tr>\n    <tr>\n      <th>1</th>\n      <td>Maruti Wagon R LXI Minor</td>\n      <td>2007</td>\n      <td>135000</td>\n      <td>50000</td>\n      <td>Petrol</td>\n      <td>Individual</td>\n      <td>Manual</td>\n      <td>First Owner</td>\n    </tr>\n    <tr>\n      <th>2</th>\n      <td>Hyundai Verna 1.6 SX</td>\n      <td>2012</td>\n      <td>600000</td>\n      <td>100000</td>\n      <td>Diesel</td>\n      <td>Individual</td>\n      <td>Manual</td>\n      <td>First Owner</td>\n    </tr>\n    <tr>\n      <th>3</th>\n      <td>Datsun RediGO T Option</td>\n      <td>2017</td>\n      <td>250000</td>\n      <td>46000</td>\n      <td>Petrol</td>\n      <td>Individual</td>\n      <td>Manual</td>\n      <td>First Owner</td>\n    </tr>\n    <tr>\n      <th>4</th>\n      <td>Honda Amaze VX i-DTEC</td>\n      <td>2014</td>\n      <td>450000</td>\n      <td>141000</td>\n      <td>Diesel</td>\n      <td>Individual</td>\n      <td>Manual</td>\n      <td>Second Owner</td>\n    </tr>\n  </tbody>\n</table>\n</div>",
            "text/plain": "                       name  year  selling_price  km_driven    fuel  \\\n0             Maruti 800 AC  2007          60000      70000  Petrol   \n1  Maruti Wagon R LXI Minor  2007         135000      50000  Petrol   \n2      Hyundai Verna 1.6 SX  2012         600000     100000  Diesel   \n3    Datsun RediGO T Option  2017         250000      46000  Petrol   \n4     Honda Amaze VX i-DTEC  2014         450000     141000  Diesel   \n\n  seller_type transmission         owner  \n0  Individual       Manual   First Owner  \n1  Individual       Manual   First Owner  \n2  Individual       Manual   First Owner  \n3  Individual       Manual   First Owner  \n4  Individual       Manual  Second Owner  "
          },
          "metadata": {}
        }
      ],
      "execution_count": 17,
      "metadata": {},
      "id": "2c22ee88"
    },
    {
      "cell_type": "code",
      "source": [
        "Top_5=car_data.groupby(['fuel']).sort_values(by=\"selling_price\",ascending=False)\n",
        "for i in Top_5:\n",
        "    print('\\n')\n",
        "    print(\"Group:\")\n",
        "    \n",
        "    print(i)"
      ],
      "outputs": [
        {
          "output_type": "error",
          "ename": "AttributeError",
          "evalue": "'DataFrameGroupBy' object has no attribute 'sort_values'",
          "traceback": [
            "\u001b[1;31m---------------------------------------------------------------------------\u001b[0m",
            "\u001b[1;31mAttributeError\u001b[0m                            Traceback (most recent call last)",
            "\u001b[1;32m<ipython-input-42-0673e72f3f98>\u001b[0m in \u001b[0;36m<module>\u001b[1;34m\u001b[0m\n\u001b[1;32m----> 1\u001b[1;33m \u001b[0mTop_5\u001b[0m\u001b[1;33m=\u001b[0m\u001b[0mcar_data\u001b[0m\u001b[1;33m.\u001b[0m\u001b[0mgroupby\u001b[0m\u001b[1;33m(\u001b[0m\u001b[1;33m[\u001b[0m\u001b[1;34m'fuel'\u001b[0m\u001b[1;33m]\u001b[0m\u001b[1;33m)\u001b[0m\u001b[1;33m.\u001b[0m\u001b[0msort_values\u001b[0m\u001b[1;33m(\u001b[0m\u001b[0mby\u001b[0m\u001b[1;33m=\u001b[0m\u001b[1;34m\"selling_price\"\u001b[0m\u001b[1;33m,\u001b[0m\u001b[0mascending\u001b[0m\u001b[1;33m=\u001b[0m\u001b[1;32mFalse\u001b[0m\u001b[1;33m)\u001b[0m\u001b[1;33m\u001b[0m\u001b[1;33m\u001b[0m\u001b[0m\n\u001b[0m\u001b[0;32m      2\u001b[0m \u001b[1;32mfor\u001b[0m \u001b[0mi\u001b[0m \u001b[1;32min\u001b[0m \u001b[0mTop_5\u001b[0m\u001b[1;33m:\u001b[0m\u001b[1;33m\u001b[0m\u001b[1;33m\u001b[0m\u001b[0m\n\u001b[0;32m      3\u001b[0m     \u001b[0mprint\u001b[0m\u001b[1;33m(\u001b[0m\u001b[1;34m'\\n'\u001b[0m\u001b[1;33m)\u001b[0m\u001b[1;33m\u001b[0m\u001b[1;33m\u001b[0m\u001b[0m\n\u001b[0;32m      4\u001b[0m     \u001b[0mprint\u001b[0m\u001b[1;33m(\u001b[0m\u001b[1;34m\"Group:\"\u001b[0m\u001b[1;33m)\u001b[0m\u001b[1;33m\u001b[0m\u001b[1;33m\u001b[0m\u001b[0m\n\u001b[0;32m      5\u001b[0m \u001b[1;33m\u001b[0m\u001b[0m\n",
            "\u001b[1;32m~\\python\\lib\\site-packages\\pandas\\core\\groupby\\groupby.py\u001b[0m in \u001b[0;36m__getattr__\u001b[1;34m(self, attr)\u001b[0m\n\u001b[0;32m    750\u001b[0m             \u001b[1;32mreturn\u001b[0m \u001b[0mself\u001b[0m\u001b[1;33m[\u001b[0m\u001b[0mattr\u001b[0m\u001b[1;33m]\u001b[0m\u001b[1;33m\u001b[0m\u001b[1;33m\u001b[0m\u001b[0m\n\u001b[0;32m    751\u001b[0m \u001b[1;33m\u001b[0m\u001b[0m\n\u001b[1;32m--> 752\u001b[1;33m         raise AttributeError(\n\u001b[0m\u001b[0;32m    753\u001b[0m             \u001b[1;34mf\"'{type(self).__name__}' object has no attribute '{attr}'\"\u001b[0m\u001b[1;33m\u001b[0m\u001b[1;33m\u001b[0m\u001b[0m\n\u001b[0;32m    754\u001b[0m         )\n",
            "\u001b[1;31mAttributeError\u001b[0m: 'DataFrameGroupBy' object has no attribute 'sort_values'"
          ]
        }
      ],
      "execution_count": 42,
      "metadata": {},
      "id": "66416580"
    },
    {
      "cell_type": "code",
      "source": [
        "Top_5.get_group('CNG').sort_values(by=\"selling_price\",ascending=False).head()"
      ],
      "outputs": [
        {
          "output_type": "execute_result",
          "execution_count": 33,
          "data": {
            "text/html": "<div>\n<style scoped>\n    .dataframe tbody tr th:only-of-type {\n        vertical-align: middle;\n    }\n\n    .dataframe tbody tr th {\n        vertical-align: top;\n    }\n\n    .dataframe thead th {\n        text-align: right;\n    }\n</style>\n<table border=\"1\" class=\"dataframe\">\n  <thead>\n    <tr style=\"text-align: right;\">\n      <th></th>\n      <th>name</th>\n      <th>year</th>\n      <th>selling_price</th>\n      <th>km_driven</th>\n      <th>fuel</th>\n      <th>seller_type</th>\n      <th>transmission</th>\n      <th>owner</th>\n    </tr>\n  </thead>\n  <tbody>\n    <tr>\n      <th>4076</th>\n      <td>Maruti Ertiga VXI CNG</td>\n      <td>2014</td>\n      <td>595000</td>\n      <td>56600</td>\n      <td>CNG</td>\n      <td>Dealer</td>\n      <td>Manual</td>\n      <td>First Owner</td>\n    </tr>\n    <tr>\n      <th>3464</th>\n      <td>Maruti Ertiga VXI CNG</td>\n      <td>2018</td>\n      <td>587000</td>\n      <td>80000</td>\n      <td>CNG</td>\n      <td>Individual</td>\n      <td>Manual</td>\n      <td>First Owner</td>\n    </tr>\n    <tr>\n      <th>712</th>\n      <td>Maruti Ertiga VXI CNG</td>\n      <td>2013</td>\n      <td>525000</td>\n      <td>56228</td>\n      <td>CNG</td>\n      <td>Dealer</td>\n      <td>Manual</td>\n      <td>First Owner</td>\n    </tr>\n    <tr>\n      <th>2785</th>\n      <td>Hyundai Santro Magna CNG BSIV</td>\n      <td>2019</td>\n      <td>520000</td>\n      <td>10000</td>\n      <td>CNG</td>\n      <td>Individual</td>\n      <td>Manual</td>\n      <td>First Owner</td>\n    </tr>\n    <tr>\n      <th>3112</th>\n      <td>Maruti Eeco CNG 5 Seater AC BSIV</td>\n      <td>2020</td>\n      <td>495000</td>\n      <td>7000</td>\n      <td>CNG</td>\n      <td>Individual</td>\n      <td>Manual</td>\n      <td>First Owner</td>\n    </tr>\n  </tbody>\n</table>\n</div>",
            "text/plain": "                                  name  year  selling_price  km_driven fuel  \\\n4076             Maruti Ertiga VXI CNG  2014         595000      56600  CNG   \n3464             Maruti Ertiga VXI CNG  2018         587000      80000  CNG   \n712              Maruti Ertiga VXI CNG  2013         525000      56228  CNG   \n2785     Hyundai Santro Magna CNG BSIV  2019         520000      10000  CNG   \n3112  Maruti Eeco CNG 5 Seater AC BSIV  2020         495000       7000  CNG   \n\n     seller_type transmission        owner  \n4076      Dealer       Manual  First Owner  \n3464  Individual       Manual  First Owner  \n712       Dealer       Manual  First Owner  \n2785  Individual       Manual  First Owner  \n3112  Individual       Manual  First Owner  "
          },
          "metadata": {}
        }
      ],
      "execution_count": 33,
      "metadata": {},
      "id": "7248c4b6"
    },
    {
      "cell_type": "code",
      "source": [
        "car_data.fuel.unique()"
      ],
      "outputs": [
        {
          "output_type": "execute_result",
          "execution_count": 20,
          "data": {
            "text/plain": "array(['Petrol', 'Diesel', 'CNG', 'LPG', 'Electric'], dtype=object)"
          },
          "metadata": {}
        }
      ],
      "execution_count": 20,
      "metadata": {},
      "id": "7472591b"
    },
    {
      "cell_type": "code",
      "source": [
        "Top_5.get_group('Petrol').sort_values(by=\"selling_price\",ascending=False).head()"
      ],
      "outputs": [
        {
          "output_type": "execute_result",
          "execution_count": 37,
          "data": {
            "text/html": "<div>\n<style scoped>\n    .dataframe tbody tr th:only-of-type {\n        vertical-align: middle;\n    }\n\n    .dataframe tbody tr th {\n        vertical-align: top;\n    }\n\n    .dataframe thead th {\n        text-align: right;\n    }\n</style>\n<table border=\"1\" class=\"dataframe\">\n  <thead>\n    <tr style=\"text-align: right;\">\n      <th></th>\n      <th>name</th>\n      <th>year</th>\n      <th>selling_price</th>\n      <th>km_driven</th>\n      <th>fuel</th>\n      <th>seller_type</th>\n      <th>transmission</th>\n      <th>owner</th>\n    </tr>\n  </thead>\n  <tbody>\n    <tr>\n      <th>3872</th>\n      <td>Audi RS7 2015-2019 Sportback Performance</td>\n      <td>2016</td>\n      <td>8900000</td>\n      <td>13000</td>\n      <td>Petrol</td>\n      <td>Dealer</td>\n      <td>Automatic</td>\n      <td>First Owner</td>\n    </tr>\n    <tr>\n      <th>2580</th>\n      <td>Mercedes-Benz E-Class Exclusive E 200 BSIV</td>\n      <td>2018</td>\n      <td>4500000</td>\n      <td>9800</td>\n      <td>Petrol</td>\n      <td>Dealer</td>\n      <td>Automatic</td>\n      <td>First Owner</td>\n    </tr>\n    <tr>\n      <th>101</th>\n      <td>Mercedes-Benz E-Class Exclusive E 200 BSIV</td>\n      <td>2018</td>\n      <td>4500000</td>\n      <td>9800</td>\n      <td>Petrol</td>\n      <td>Dealer</td>\n      <td>Automatic</td>\n      <td>First Owner</td>\n    </tr>\n    <tr>\n      <th>988</th>\n      <td>Land Rover Discovery S 2.0 SD4</td>\n      <td>2018</td>\n      <td>4000000</td>\n      <td>68000</td>\n      <td>Petrol</td>\n      <td>Individual</td>\n      <td>Automatic</td>\n      <td>First Owner</td>\n    </tr>\n    <tr>\n      <th>1065</th>\n      <td>Audi A4 30 TFSI Technology</td>\n      <td>2018</td>\n      <td>3100000</td>\n      <td>22000</td>\n      <td>Petrol</td>\n      <td>Individual</td>\n      <td>Automatic</td>\n      <td>First Owner</td>\n    </tr>\n  </tbody>\n</table>\n</div>",
            "text/plain": "                                            name  year  selling_price  \\\n3872    Audi RS7 2015-2019 Sportback Performance  2016        8900000   \n2580  Mercedes-Benz E-Class Exclusive E 200 BSIV  2018        4500000   \n101   Mercedes-Benz E-Class Exclusive E 200 BSIV  2018        4500000   \n988               Land Rover Discovery S 2.0 SD4  2018        4000000   \n1065                  Audi A4 30 TFSI Technology  2018        3100000   \n\n      km_driven    fuel seller_type transmission        owner  \n3872      13000  Petrol      Dealer    Automatic  First Owner  \n2580       9800  Petrol      Dealer    Automatic  First Owner  \n101        9800  Petrol      Dealer    Automatic  First Owner  \n988       68000  Petrol  Individual    Automatic  First Owner  \n1065      22000  Petrol  Individual    Automatic  First Owner  "
          },
          "metadata": {}
        }
      ],
      "execution_count": 37,
      "metadata": {},
      "id": "0699af21"
    },
    {
      "cell_type": "code",
      "source": [
        "Top_5.get_group('Diesel').sort_values(by=\"selling_price\",ascending=False).head()"
      ],
      "outputs": [
        {
          "output_type": "execute_result",
          "execution_count": 38,
          "data": {
            "text/html": "<div>\n<style scoped>\n    .dataframe tbody tr th:only-of-type {\n        vertical-align: middle;\n    }\n\n    .dataframe tbody tr th {\n        vertical-align: top;\n    }\n\n    .dataframe thead th {\n        text-align: right;\n    }\n</style>\n<table border=\"1\" class=\"dataframe\">\n  <thead>\n    <tr style=\"text-align: right;\">\n      <th></th>\n      <th>name</th>\n      <th>year</th>\n      <th>selling_price</th>\n      <th>km_driven</th>\n      <th>fuel</th>\n      <th>seller_type</th>\n      <th>transmission</th>\n      <th>owner</th>\n    </tr>\n  </thead>\n  <tbody>\n    <tr>\n      <th>89</th>\n      <td>Mercedes-Benz S-Class S 350d Connoisseurs Edition</td>\n      <td>2017</td>\n      <td>8150000</td>\n      <td>6500</td>\n      <td>Diesel</td>\n      <td>Dealer</td>\n      <td>Automatic</td>\n      <td>First Owner</td>\n    </tr>\n    <tr>\n      <th>3969</th>\n      <td>Mercedes-Benz GLS 2016-2020 350d 4MATIC</td>\n      <td>2016</td>\n      <td>5500000</td>\n      <td>77350</td>\n      <td>Diesel</td>\n      <td>Dealer</td>\n      <td>Automatic</td>\n      <td>First Owner</td>\n    </tr>\n    <tr>\n      <th>919</th>\n      <td>BMW X5 xDrive 30d xLine</td>\n      <td>2019</td>\n      <td>4950000</td>\n      <td>30000</td>\n      <td>Diesel</td>\n      <td>Dealer</td>\n      <td>Automatic</td>\n      <td>First Owner</td>\n    </tr>\n    <tr>\n      <th>612</th>\n      <td>BMW X5 xDrive 30d xLine</td>\n      <td>2019</td>\n      <td>4950000</td>\n      <td>30000</td>\n      <td>Diesel</td>\n      <td>Dealer</td>\n      <td>Automatic</td>\n      <td>First Owner</td>\n    </tr>\n    <tr>\n      <th>593</th>\n      <td>BMW X5 xDrive 30d xLine</td>\n      <td>2019</td>\n      <td>4950000</td>\n      <td>30000</td>\n      <td>Diesel</td>\n      <td>Dealer</td>\n      <td>Automatic</td>\n      <td>First Owner</td>\n    </tr>\n  </tbody>\n</table>\n</div>",
            "text/plain": "                                                   name  year  selling_price  \\\n89    Mercedes-Benz S-Class S 350d Connoisseurs Edition  2017        8150000   \n3969            Mercedes-Benz GLS 2016-2020 350d 4MATIC  2016        5500000   \n919                             BMW X5 xDrive 30d xLine  2019        4950000   \n612                             BMW X5 xDrive 30d xLine  2019        4950000   \n593                             BMW X5 xDrive 30d xLine  2019        4950000   \n\n      km_driven    fuel seller_type transmission        owner  \n89         6500  Diesel      Dealer    Automatic  First Owner  \n3969      77350  Diesel      Dealer    Automatic  First Owner  \n919       30000  Diesel      Dealer    Automatic  First Owner  \n612       30000  Diesel      Dealer    Automatic  First Owner  \n593       30000  Diesel      Dealer    Automatic  First Owner  "
          },
          "metadata": {}
        }
      ],
      "execution_count": 38,
      "metadata": {},
      "id": "5369ccee"
    },
    {
      "cell_type": "code",
      "source": [
        "Top_5.get_group('LPG').sort_values(by=\"selling_price\",ascending=False).head()"
      ],
      "outputs": [
        {
          "output_type": "execute_result",
          "execution_count": 40,
          "data": {
            "text/html": "<div>\n<style scoped>\n    .dataframe tbody tr th:only-of-type {\n        vertical-align: middle;\n    }\n\n    .dataframe tbody tr th {\n        vertical-align: top;\n    }\n\n    .dataframe thead th {\n        text-align: right;\n    }\n</style>\n<table border=\"1\" class=\"dataframe\">\n  <thead>\n    <tr style=\"text-align: right;\">\n      <th></th>\n      <th>name</th>\n      <th>year</th>\n      <th>selling_price</th>\n      <th>km_driven</th>\n      <th>fuel</th>\n      <th>seller_type</th>\n      <th>transmission</th>\n      <th>owner</th>\n    </tr>\n  </thead>\n  <tbody>\n    <tr>\n      <th>1435</th>\n      <td>Hyundai i10 Magna LPG</td>\n      <td>2014</td>\n      <td>290000</td>\n      <td>29000</td>\n      <td>LPG</td>\n      <td>Individual</td>\n      <td>Manual</td>\n      <td>First Owner</td>\n    </tr>\n    <tr>\n      <th>1998</th>\n      <td>Hyundai i10 Magna LPG</td>\n      <td>2013</td>\n      <td>275000</td>\n      <td>90000</td>\n      <td>LPG</td>\n      <td>Individual</td>\n      <td>Manual</td>\n      <td>Second Owner</td>\n    </tr>\n    <tr>\n      <th>495</th>\n      <td>Hyundai Santro Xing GLS Audio LPG</td>\n      <td>2012</td>\n      <td>250000</td>\n      <td>100000</td>\n      <td>LPG</td>\n      <td>Individual</td>\n      <td>Manual</td>\n      <td>First Owner</td>\n    </tr>\n    <tr>\n      <th>657</th>\n      <td>Hyundai i10 Magna LPG</td>\n      <td>2013</td>\n      <td>250000</td>\n      <td>88600</td>\n      <td>LPG</td>\n      <td>Individual</td>\n      <td>Manual</td>\n      <td>First Owner</td>\n    </tr>\n    <tr>\n      <th>3752</th>\n      <td>Hyundai EON LPG Magna Plus</td>\n      <td>2015</td>\n      <td>240000</td>\n      <td>110000</td>\n      <td>LPG</td>\n      <td>Individual</td>\n      <td>Manual</td>\n      <td>First Owner</td>\n    </tr>\n  </tbody>\n</table>\n</div>",
            "text/plain": "                                   name  year  selling_price  km_driven fuel  \\\n1435              Hyundai i10 Magna LPG  2014         290000      29000  LPG   \n1998              Hyundai i10 Magna LPG  2013         275000      90000  LPG   \n495   Hyundai Santro Xing GLS Audio LPG  2012         250000     100000  LPG   \n657               Hyundai i10 Magna LPG  2013         250000      88600  LPG   \n3752         Hyundai EON LPG Magna Plus  2015         240000     110000  LPG   \n\n     seller_type transmission         owner  \n1435  Individual       Manual   First Owner  \n1998  Individual       Manual  Second Owner  \n495   Individual       Manual   First Owner  \n657   Individual       Manual   First Owner  \n3752  Individual       Manual   First Owner  "
          },
          "metadata": {}
        }
      ],
      "execution_count": 40,
      "metadata": {},
      "id": "f8c191ee"
    },
    {
      "cell_type": "code",
      "source": [
        "Top_5.get_group('Electric').sort_values(by=\"selling_price\",ascending=False).head()"
      ],
      "outputs": [
        {
          "output_type": "execute_result",
          "execution_count": 41,
          "data": {
            "text/html": "<div>\n<style scoped>\n    .dataframe tbody tr th:only-of-type {\n        vertical-align: middle;\n    }\n\n    .dataframe tbody tr th {\n        vertical-align: top;\n    }\n\n    .dataframe thead th {\n        text-align: right;\n    }\n</style>\n<table border=\"1\" class=\"dataframe\">\n  <thead>\n    <tr style=\"text-align: right;\">\n      <th></th>\n      <th>name</th>\n      <th>year</th>\n      <th>selling_price</th>\n      <th>km_driven</th>\n      <th>fuel</th>\n      <th>seller_type</th>\n      <th>transmission</th>\n      <th>owner</th>\n    </tr>\n  </thead>\n  <tbody>\n    <tr>\n      <th>4145</th>\n      <td>Toyota Camry Hybrid</td>\n      <td>2006</td>\n      <td>310000</td>\n      <td>62000</td>\n      <td>Electric</td>\n      <td>Dealer</td>\n      <td>Automatic</td>\n      <td>Second Owner</td>\n    </tr>\n  </tbody>\n</table>\n</div>",
            "text/plain": "                     name  year  selling_price  km_driven      fuel  \\\n4145  Toyota Camry Hybrid  2006         310000      62000  Electric   \n\n     seller_type transmission         owner  \n4145      Dealer    Automatic  Second Owner  "
          },
          "metadata": {}
        }
      ],
      "execution_count": 41,
      "metadata": {},
      "id": "7bf1a4e0"
    },
    {
      "cell_type": "markdown",
      "source": [
        "OR"
      ],
      "metadata": {},
      "id": "45b061df"
    },
    {
      "cell_type": "code",
      "source": [
        "top=car_data.sort_values(by=\"selling_price\",ascending=False).groupby('fuel').head(5)\n",
        "top"
      ],
      "outputs": [
        {
          "output_type": "execute_result",
          "execution_count": 45,
          "data": {
            "text/html": "<div>\n<style scoped>\n    .dataframe tbody tr th:only-of-type {\n        vertical-align: middle;\n    }\n\n    .dataframe tbody tr th {\n        vertical-align: top;\n    }\n\n    .dataframe thead th {\n        text-align: right;\n    }\n</style>\n<table border=\"1\" class=\"dataframe\">\n  <thead>\n    <tr style=\"text-align: right;\">\n      <th></th>\n      <th>name</th>\n      <th>year</th>\n      <th>selling_price</th>\n      <th>km_driven</th>\n      <th>fuel</th>\n      <th>seller_type</th>\n      <th>transmission</th>\n      <th>owner</th>\n    </tr>\n  </thead>\n  <tbody>\n    <tr>\n      <th>3872</th>\n      <td>Audi RS7 2015-2019 Sportback Performance</td>\n      <td>2016</td>\n      <td>8900000</td>\n      <td>13000</td>\n      <td>Petrol</td>\n      <td>Dealer</td>\n      <td>Automatic</td>\n      <td>First Owner</td>\n    </tr>\n    <tr>\n      <th>89</th>\n      <td>Mercedes-Benz S-Class S 350d Connoisseurs Edition</td>\n      <td>2017</td>\n      <td>8150000</td>\n      <td>6500</td>\n      <td>Diesel</td>\n      <td>Dealer</td>\n      <td>Automatic</td>\n      <td>First Owner</td>\n    </tr>\n    <tr>\n      <th>3969</th>\n      <td>Mercedes-Benz GLS 2016-2020 350d 4MATIC</td>\n      <td>2016</td>\n      <td>5500000</td>\n      <td>77350</td>\n      <td>Diesel</td>\n      <td>Dealer</td>\n      <td>Automatic</td>\n      <td>First Owner</td>\n    </tr>\n    <tr>\n      <th>2258</th>\n      <td>BMW X5 xDrive 30d xLine</td>\n      <td>2019</td>\n      <td>4950000</td>\n      <td>30000</td>\n      <td>Diesel</td>\n      <td>Dealer</td>\n      <td>Automatic</td>\n      <td>First Owner</td>\n    </tr>\n    <tr>\n      <th>612</th>\n      <td>BMW X5 xDrive 30d xLine</td>\n      <td>2019</td>\n      <td>4950000</td>\n      <td>30000</td>\n      <td>Diesel</td>\n      <td>Dealer</td>\n      <td>Automatic</td>\n      <td>First Owner</td>\n    </tr>\n    <tr>\n      <th>1836</th>\n      <td>BMW X5 xDrive 30d xLine</td>\n      <td>2019</td>\n      <td>4950000</td>\n      <td>30000</td>\n      <td>Diesel</td>\n      <td>Dealer</td>\n      <td>Automatic</td>\n      <td>First Owner</td>\n    </tr>\n    <tr>\n      <th>2580</th>\n      <td>Mercedes-Benz E-Class Exclusive E 200 BSIV</td>\n      <td>2018</td>\n      <td>4500000</td>\n      <td>9800</td>\n      <td>Petrol</td>\n      <td>Dealer</td>\n      <td>Automatic</td>\n      <td>First Owner</td>\n    </tr>\n    <tr>\n      <th>101</th>\n      <td>Mercedes-Benz E-Class Exclusive E 200 BSIV</td>\n      <td>2018</td>\n      <td>4500000</td>\n      <td>9800</td>\n      <td>Petrol</td>\n      <td>Dealer</td>\n      <td>Automatic</td>\n      <td>First Owner</td>\n    </tr>\n    <tr>\n      <th>988</th>\n      <td>Land Rover Discovery S 2.0 SD4</td>\n      <td>2018</td>\n      <td>4000000</td>\n      <td>68000</td>\n      <td>Petrol</td>\n      <td>Individual</td>\n      <td>Automatic</td>\n      <td>First Owner</td>\n    </tr>\n    <tr>\n      <th>1065</th>\n      <td>Audi A4 30 TFSI Technology</td>\n      <td>2018</td>\n      <td>3100000</td>\n      <td>22000</td>\n      <td>Petrol</td>\n      <td>Individual</td>\n      <td>Automatic</td>\n      <td>First Owner</td>\n    </tr>\n    <tr>\n      <th>4076</th>\n      <td>Maruti Ertiga VXI CNG</td>\n      <td>2014</td>\n      <td>595000</td>\n      <td>56600</td>\n      <td>CNG</td>\n      <td>Dealer</td>\n      <td>Manual</td>\n      <td>First Owner</td>\n    </tr>\n    <tr>\n      <th>3464</th>\n      <td>Maruti Ertiga VXI CNG</td>\n      <td>2018</td>\n      <td>587000</td>\n      <td>80000</td>\n      <td>CNG</td>\n      <td>Individual</td>\n      <td>Manual</td>\n      <td>First Owner</td>\n    </tr>\n    <tr>\n      <th>712</th>\n      <td>Maruti Ertiga VXI CNG</td>\n      <td>2013</td>\n      <td>525000</td>\n      <td>56228</td>\n      <td>CNG</td>\n      <td>Dealer</td>\n      <td>Manual</td>\n      <td>First Owner</td>\n    </tr>\n    <tr>\n      <th>2785</th>\n      <td>Hyundai Santro Magna CNG BSIV</td>\n      <td>2019</td>\n      <td>520000</td>\n      <td>10000</td>\n      <td>CNG</td>\n      <td>Individual</td>\n      <td>Manual</td>\n      <td>First Owner</td>\n    </tr>\n    <tr>\n      <th>3112</th>\n      <td>Maruti Eeco CNG 5 Seater AC BSIV</td>\n      <td>2020</td>\n      <td>495000</td>\n      <td>7000</td>\n      <td>CNG</td>\n      <td>Individual</td>\n      <td>Manual</td>\n      <td>First Owner</td>\n    </tr>\n    <tr>\n      <th>4145</th>\n      <td>Toyota Camry Hybrid</td>\n      <td>2006</td>\n      <td>310000</td>\n      <td>62000</td>\n      <td>Electric</td>\n      <td>Dealer</td>\n      <td>Automatic</td>\n      <td>Second Owner</td>\n    </tr>\n    <tr>\n      <th>1435</th>\n      <td>Hyundai i10 Magna LPG</td>\n      <td>2014</td>\n      <td>290000</td>\n      <td>29000</td>\n      <td>LPG</td>\n      <td>Individual</td>\n      <td>Manual</td>\n      <td>First Owner</td>\n    </tr>\n    <tr>\n      <th>1998</th>\n      <td>Hyundai i10 Magna LPG</td>\n      <td>2013</td>\n      <td>275000</td>\n      <td>90000</td>\n      <td>LPG</td>\n      <td>Individual</td>\n      <td>Manual</td>\n      <td>Second Owner</td>\n    </tr>\n    <tr>\n      <th>495</th>\n      <td>Hyundai Santro Xing GLS Audio LPG</td>\n      <td>2012</td>\n      <td>250000</td>\n      <td>100000</td>\n      <td>LPG</td>\n      <td>Individual</td>\n      <td>Manual</td>\n      <td>First Owner</td>\n    </tr>\n    <tr>\n      <th>657</th>\n      <td>Hyundai i10 Magna LPG</td>\n      <td>2013</td>\n      <td>250000</td>\n      <td>88600</td>\n      <td>LPG</td>\n      <td>Individual</td>\n      <td>Manual</td>\n      <td>First Owner</td>\n    </tr>\n    <tr>\n      <th>2380</th>\n      <td>Maruti Wagon R Duo Lxi</td>\n      <td>2010</td>\n      <td>240000</td>\n      <td>50000</td>\n      <td>LPG</td>\n      <td>Dealer</td>\n      <td>Manual</td>\n      <td>First Owner</td>\n    </tr>\n  </tbody>\n</table>\n</div>",
            "text/plain": "                                                   name  year  selling_price  \\\n3872           Audi RS7 2015-2019 Sportback Performance  2016        8900000   \n89    Mercedes-Benz S-Class S 350d Connoisseurs Edition  2017        8150000   \n3969            Mercedes-Benz GLS 2016-2020 350d 4MATIC  2016        5500000   \n2258                            BMW X5 xDrive 30d xLine  2019        4950000   \n612                             BMW X5 xDrive 30d xLine  2019        4950000   \n1836                            BMW X5 xDrive 30d xLine  2019        4950000   \n2580         Mercedes-Benz E-Class Exclusive E 200 BSIV  2018        4500000   \n101          Mercedes-Benz E-Class Exclusive E 200 BSIV  2018        4500000   \n988                      Land Rover Discovery S 2.0 SD4  2018        4000000   \n1065                         Audi A4 30 TFSI Technology  2018        3100000   \n4076                              Maruti Ertiga VXI CNG  2014         595000   \n3464                              Maruti Ertiga VXI CNG  2018         587000   \n712                               Maruti Ertiga VXI CNG  2013         525000   \n2785                      Hyundai Santro Magna CNG BSIV  2019         520000   \n3112                   Maruti Eeco CNG 5 Seater AC BSIV  2020         495000   \n4145                                Toyota Camry Hybrid  2006         310000   \n1435                              Hyundai i10 Magna LPG  2014         290000   \n1998                              Hyundai i10 Magna LPG  2013         275000   \n495                   Hyundai Santro Xing GLS Audio LPG  2012         250000   \n657                               Hyundai i10 Magna LPG  2013         250000   \n2380                             Maruti Wagon R Duo Lxi  2010         240000   \n\n      km_driven      fuel seller_type transmission         owner  \n3872      13000    Petrol      Dealer    Automatic   First Owner  \n89         6500    Diesel      Dealer    Automatic   First Owner  \n3969      77350    Diesel      Dealer    Automatic   First Owner  \n2258      30000    Diesel      Dealer    Automatic   First Owner  \n612       30000    Diesel      Dealer    Automatic   First Owner  \n1836      30000    Diesel      Dealer    Automatic   First Owner  \n2580       9800    Petrol      Dealer    Automatic   First Owner  \n101        9800    Petrol      Dealer    Automatic   First Owner  \n988       68000    Petrol  Individual    Automatic   First Owner  \n1065      22000    Petrol  Individual    Automatic   First Owner  \n4076      56600       CNG      Dealer       Manual   First Owner  \n3464      80000       CNG  Individual       Manual   First Owner  \n712       56228       CNG      Dealer       Manual   First Owner  \n2785      10000       CNG  Individual       Manual   First Owner  \n3112       7000       CNG  Individual       Manual   First Owner  \n4145      62000  Electric      Dealer    Automatic  Second Owner  \n1435      29000       LPG  Individual       Manual   First Owner  \n1998      90000       LPG  Individual       Manual  Second Owner  \n495      100000       LPG  Individual       Manual   First Owner  \n657       88600       LPG  Individual       Manual   First Owner  \n2380      50000       LPG      Dealer       Manual   First Owner  "
          },
          "metadata": {}
        }
      ],
      "execution_count": 45,
      "metadata": {},
      "id": "1af074d2"
    },
    {
      "cell_type": "markdown",
      "source": [
        "8. Produce the list of Top 5 cars with minimum Selling price and minimum kms driven"
      ],
      "metadata": {},
      "id": "9e4e4c9b"
    },
    {
      "cell_type": "code",
      "source": [
        "Min_sell_min_kms=car_data.sort_values(['selling_price','km_driven']).head()\n",
        "Min_sell_min_kms"
      ],
      "outputs": [
        {
          "output_type": "execute_result",
          "execution_count": 47,
          "data": {
            "text/html": "<div>\n<style scoped>\n    .dataframe tbody tr th:only-of-type {\n        vertical-align: middle;\n    }\n\n    .dataframe tbody tr th {\n        vertical-align: top;\n    }\n\n    .dataframe thead th {\n        text-align: right;\n    }\n</style>\n<table border=\"1\" class=\"dataframe\">\n  <thead>\n    <tr style=\"text-align: right;\">\n      <th></th>\n      <th>name</th>\n      <th>year</th>\n      <th>selling_price</th>\n      <th>km_driven</th>\n      <th>fuel</th>\n      <th>seller_type</th>\n      <th>transmission</th>\n      <th>owner</th>\n    </tr>\n  </thead>\n  <tbody>\n    <tr>\n      <th>2662</th>\n      <td>Ford Ikon 1.6 ZXI NXt</td>\n      <td>2005</td>\n      <td>20000</td>\n      <td>25000</td>\n      <td>Petrol</td>\n      <td>Individual</td>\n      <td>Manual</td>\n      <td>Second Owner</td>\n    </tr>\n    <tr>\n      <th>2495</th>\n      <td>Ford Ikon 1.4 ZXi</td>\n      <td>2000</td>\n      <td>22000</td>\n      <td>42743</td>\n      <td>Petrol</td>\n      <td>Dealer</td>\n      <td>Manual</td>\n      <td>Third Owner</td>\n    </tr>\n    <tr>\n      <th>2444</th>\n      <td>Maruti 800 EX</td>\n      <td>2004</td>\n      <td>30000</td>\n      <td>60000</td>\n      <td>Petrol</td>\n      <td>Individual</td>\n      <td>Manual</td>\n      <td>Third Owner</td>\n    </tr>\n    <tr>\n      <th>1832</th>\n      <td>Tata Nano LX SE</td>\n      <td>2012</td>\n      <td>35000</td>\n      <td>35000</td>\n      <td>Petrol</td>\n      <td>Individual</td>\n      <td>Manual</td>\n      <td>Third Owner</td>\n    </tr>\n    <tr>\n      <th>2849</th>\n      <td>Tata Nano Std BSII</td>\n      <td>2009</td>\n      <td>35000</td>\n      <td>50000</td>\n      <td>Petrol</td>\n      <td>Individual</td>\n      <td>Manual</td>\n      <td>Third Owner</td>\n    </tr>\n  </tbody>\n</table>\n</div>",
            "text/plain": "                       name  year  selling_price  km_driven    fuel  \\\n2662  Ford Ikon 1.6 ZXI NXt  2005          20000      25000  Petrol   \n2495      Ford Ikon 1.4 ZXi  2000          22000      42743  Petrol   \n2444          Maruti 800 EX  2004          30000      60000  Petrol   \n1832        Tata Nano LX SE  2012          35000      35000  Petrol   \n2849     Tata Nano Std BSII  2009          35000      50000  Petrol   \n\n     seller_type transmission         owner  \n2662  Individual       Manual  Second Owner  \n2495      Dealer       Manual   Third Owner  \n2444  Individual       Manual   Third Owner  \n1832  Individual       Manual   Third Owner  \n2849  Individual       Manual   Third Owner  "
          },
          "metadata": {}
        }
      ],
      "execution_count": 47,
      "metadata": {},
      "id": "10759c97"
    },
    {
      "cell_type": "markdown",
      "source": [
        "9. Suggest car names to be considered for buying; one in Automatic and other in Manual Transmission type with valid justification! (Use values of other columns to back your answer)"
      ],
      "metadata": {},
      "id": "5b8212ee"
    },
    {
      "cell_type": "code",
      "source": [
        "name_top_3_car=car_data.sort_values('selling_price').groupby('fuel').head(3)\n",
        "name_top_3_car['name']"
      ],
      "outputs": [
        {
          "output_type": "execute_result",
          "execution_count": 60,
          "data": {
            "text/plain": "2662              Ford Ikon 1.6 ZXI NXt\n2495                  Ford Ikon 1.4 ZXi\n2444                      Maruti 800 EX\n1782                    Tata Indica DLE\n3014                    Maruti Omni CNG\n334                     Tata Indica DLX\n2878        Ambassador Classic 2000 Dsz\n1699          Maruti Omni 5 Str STD LPG\n2546           Maruti Omni LPG STD BSIV\n3781       Maruti Wagon R LXI DUO BSIII\n2493        Maruti Alto Green LXi (CNG)\n664     Hyundai Santro Xing GL PLUS CNG\n4145                Toyota Camry Hybrid\nName: name, dtype: object"
          },
          "metadata": {}
        }
      ],
      "execution_count": 60,
      "metadata": {},
      "id": "0b0660cc"
    },
    {
      "cell_type": "code",
      "source": [],
      "outputs": [],
      "execution_count": null,
      "metadata": {},
      "id": "f13eb304"
    },
    {
      "cell_type": "code",
      "source": [],
      "outputs": [],
      "execution_count": null,
      "metadata": {},
      "id": "588ce12f"
    }
  ],
  "metadata": {
    "kernelspec": {
      "display_name": "Python 3",
      "language": "python",
      "name": "python3"
    },
    "language_info": {
      "codemirror_mode": {
        "name": "ipython",
        "version": 3
      },
      "file_extension": ".py",
      "mimetype": "text/x-python",
      "name": "python",
      "nbconvert_exporter": "python",
      "pygments_lexer": "ipython3",
      "version": "3.8.8"
    },
    "nteract": {
      "version": "nteract-front-end@1.0.0"
    }
  },
  "nbformat": 4,
  "nbformat_minor": 5
}